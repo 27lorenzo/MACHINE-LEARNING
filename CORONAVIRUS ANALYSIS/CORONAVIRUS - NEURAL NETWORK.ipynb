{
 "cells": [
  {
   "cell_type": "code",
   "execution_count": 1,
   "metadata": {},
   "outputs": [],
   "source": [
    "import pandas as pd\n",
    "import matplotlib.pyplot as plt\n",
    "import numpy as np"
   ]
  },
  {
   "cell_type": "markdown",
   "metadata": {},
   "source": [
    "https://www.kaggle.com/imdevskp/corona-virus-report#covid_19_clean_complete.csv"
   ]
  },
  {
   "cell_type": "code",
   "execution_count": 2,
   "metadata": {},
   "outputs": [],
   "source": [
    "# import jtplot module in notebook\n",
    "from jupyterthemes import jtplot\n",
    "\n",
    "# choose which theme to inherit plotting style from\n",
    "# onedork | grade3 | oceans16 | chesterish | monokai | solarizedl | solarizedd\n",
    "jtplot.style(theme='chesterish')\n",
    "\n",
    "# set \"context\" (paper, notebook, talk, poster)\n",
    "# scale font-size of ticklabels, legend, etc.\n",
    "# remove spines from x and y axes and make grid dashed\n",
    "jtplot.style(context='notebook', fscale=1.4, spines=False, gridlines='--')\n",
    "\n",
    "# turn on X- and Y-axis tick marks (default=False)\n",
    "# turn off the axis grid lines (default=True)\n",
    "# and set the default figure size\n",
    "jtplot.style(ticks=True, grid=False, figsize=(6, 4.5))"
   ]
  },
  {
   "cell_type": "markdown",
   "metadata": {},
   "source": [
    "Each row of the dataset contains the number of confirmed, Deaths and Recovered cases for each Providence/State for each day since 22/01/2010"
   ]
  },
  {
   "cell_type": "code",
   "execution_count": 3,
   "metadata": {},
   "outputs": [
    {
     "name": "stdout",
     "output_type": "stream",
     "text": [
      "(20619, 8)\n"
     ]
    }
   ],
   "source": [
    "data = pd.read_csv(r\"C:\\Users\\loren\\OneDrive\\Documentos\\CURSO PYTHON\\MACHINE LEARNING\\CORONAVIRUS\\covid_19_clean_complete.csv\")\n",
    "data.head()\n",
    "print(data.shape)"
   ]
  },
  {
   "cell_type": "code",
   "execution_count": 4,
   "metadata": {},
   "outputs": [
    {
     "data": {
      "text/plain": [
       "Index(['Province_State', 'Country_Region', 'Lat', 'Long', 'Date', 'Confirmed',\n",
       "       'Deaths', 'Recovered'],\n",
       "      dtype='object')"
      ]
     },
     "execution_count": 4,
     "metadata": {},
     "output_type": "execute_result"
    }
   ],
   "source": [
    "data.rename(columns = {\"Province/State\" : \"Province_State\", \n",
    "                       \"Country/Region\": \"Country_Region\"}, inplace = True)\n",
    "data.columns"
   ]
  },
  {
   "cell_type": "code",
   "execution_count": 5,
   "metadata": {},
   "outputs": [
    {
     "data": {
      "text/plain": [
       "Country_Region\n",
       "US                       461437\n",
       "Spain                    153222\n",
       "Italy                    143626\n",
       "Germany                  118181\n",
       "France                   117749\n",
       "                          ...  \n",
       "Sao Tome and Principe         4\n",
       "Burundi                       3\n",
       "South Sudan                   3\n",
       "Papua New Guinea              2\n",
       "Timor-Leste                   1\n",
       "Name: Confirmed, Length: 184, dtype: int64"
      ]
     },
     "execution_count": 5,
     "metadata": {},
     "output_type": "execute_result"
    }
   ],
   "source": [
    "data.groupby([\"Country_Region\"])[\"Confirmed\"].max().sort_values(ascending = False)"
   ]
  },
  {
   "cell_type": "code",
   "execution_count": 6,
   "metadata": {},
   "outputs": [
    {
     "data": {
      "text/plain": [
       "Province_State            object\n",
       "Country_Region            object\n",
       "Lat                      float64\n",
       "Long                     float64\n",
       "Date                      object\n",
       "Confirmed                  int64\n",
       "Deaths                   float64\n",
       "Recovered                  int64\n",
       "cases date        datetime64[ns]\n",
       "dtype: object"
      ]
     },
     "execution_count": 6,
     "metadata": {},
     "output_type": "execute_result"
    }
   ],
   "source": [
    "data[\"cases date\"] = pd.to_datetime(data[\"Date\"])\n",
    "data.dtypes"
   ]
  },
  {
   "cell_type": "markdown",
   "metadata": {},
   "source": [
    "## Prediction"
   ]
  },
  {
   "cell_type": "code",
   "execution_count": 8,
   "metadata": {},
   "outputs": [],
   "source": [
    "data2 = data\n",
    "timeseries = data.set_index(\"cases date\")\n",
    "data2['date_days'] = (data[\"cases date\"] - data[\"cases date\"].min())  / np.timedelta64(1,'D')"
   ]
  },
  {
   "cell_type": "code",
   "execution_count": 9,
   "metadata": {},
   "outputs": [
    {
     "data": {
      "text/html": [
       "<div>\n",
       "<style scoped>\n",
       "    .dataframe tbody tr th:only-of-type {\n",
       "        vertical-align: middle;\n",
       "    }\n",
       "\n",
       "    .dataframe tbody tr th {\n",
       "        vertical-align: top;\n",
       "    }\n",
       "\n",
       "    .dataframe thead th {\n",
       "        text-align: right;\n",
       "    }\n",
       "</style>\n",
       "<table border=\"1\" class=\"dataframe\">\n",
       "  <thead>\n",
       "    <tr style=\"text-align: right;\">\n",
       "      <th></th>\n",
       "      <th>Lat</th>\n",
       "      <th>Long</th>\n",
       "      <th>Confirmed</th>\n",
       "      <th>Deaths</th>\n",
       "      <th>Recovered</th>\n",
       "    </tr>\n",
       "    <tr>\n",
       "      <th>cases date</th>\n",
       "      <th></th>\n",
       "      <th></th>\n",
       "      <th></th>\n",
       "      <th></th>\n",
       "      <th></th>\n",
       "    </tr>\n",
       "  </thead>\n",
       "  <tbody>\n",
       "    <tr>\n",
       "      <th>0.0</th>\n",
       "      <td>5600.04289</td>\n",
       "      <td>5872.157373</td>\n",
       "      <td>555</td>\n",
       "      <td>17.0</td>\n",
       "      <td>28</td>\n",
       "    </tr>\n",
       "    <tr>\n",
       "      <th>1.0</th>\n",
       "      <td>5600.04289</td>\n",
       "      <td>5872.157373</td>\n",
       "      <td>654</td>\n",
       "      <td>18.0</td>\n",
       "      <td>30</td>\n",
       "    </tr>\n",
       "    <tr>\n",
       "      <th>2.0</th>\n",
       "      <td>5600.04289</td>\n",
       "      <td>5872.157373</td>\n",
       "      <td>941</td>\n",
       "      <td>26.0</td>\n",
       "      <td>36</td>\n",
       "    </tr>\n",
       "    <tr>\n",
       "      <th>3.0</th>\n",
       "      <td>5600.04289</td>\n",
       "      <td>5872.157373</td>\n",
       "      <td>1434</td>\n",
       "      <td>42.0</td>\n",
       "      <td>39</td>\n",
       "    </tr>\n",
       "    <tr>\n",
       "      <th>4.0</th>\n",
       "      <td>5600.04289</td>\n",
       "      <td>5872.157373</td>\n",
       "      <td>2118</td>\n",
       "      <td>56.0</td>\n",
       "      <td>52</td>\n",
       "    </tr>\n",
       "    <tr>\n",
       "      <th>...</th>\n",
       "      <td>...</td>\n",
       "      <td>...</td>\n",
       "      <td>...</td>\n",
       "      <td>...</td>\n",
       "      <td>...</td>\n",
       "    </tr>\n",
       "    <tr>\n",
       "      <th>74.0</th>\n",
       "      <td>5600.04289</td>\n",
       "      <td>5872.157373</td>\n",
       "      <td>1272113</td>\n",
       "      <td>69373.0</td>\n",
       "      <td>256997</td>\n",
       "    </tr>\n",
       "    <tr>\n",
       "      <th>75.0</th>\n",
       "      <td>5600.04289</td>\n",
       "      <td>5872.157373</td>\n",
       "      <td>1345099</td>\n",
       "      <td>74564.0</td>\n",
       "      <td>273256</td>\n",
       "    </tr>\n",
       "    <tr>\n",
       "      <th>76.0</th>\n",
       "      <td>5600.04289</td>\n",
       "      <td>5872.157373</td>\n",
       "      <td>1426094</td>\n",
       "      <td>81864.0</td>\n",
       "      <td>296259</td>\n",
       "    </tr>\n",
       "    <tr>\n",
       "      <th>77.0</th>\n",
       "      <td>5600.04289</td>\n",
       "      <td>5872.157373</td>\n",
       "      <td>1511102</td>\n",
       "      <td>88337.0</td>\n",
       "      <td>324502</td>\n",
       "    </tr>\n",
       "    <tr>\n",
       "      <th>78.0</th>\n",
       "      <td>5600.04289</td>\n",
       "      <td>5872.157373</td>\n",
       "      <td>1595348</td>\n",
       "      <td>95454.0</td>\n",
       "      <td>348808</td>\n",
       "    </tr>\n",
       "  </tbody>\n",
       "</table>\n",
       "<p>79 rows × 5 columns</p>\n",
       "</div>"
      ],
      "text/plain": [
       "                   Lat         Long  Confirmed   Deaths  Recovered\n",
       "cases date                                                        \n",
       "0.0         5600.04289  5872.157373        555     17.0         28\n",
       "1.0         5600.04289  5872.157373        654     18.0         30\n",
       "2.0         5600.04289  5872.157373        941     26.0         36\n",
       "3.0         5600.04289  5872.157373       1434     42.0         39\n",
       "4.0         5600.04289  5872.157373       2118     56.0         52\n",
       "...                ...          ...        ...      ...        ...\n",
       "74.0        5600.04289  5872.157373    1272113  69373.0     256997\n",
       "75.0        5600.04289  5872.157373    1345099  74564.0     273256\n",
       "76.0        5600.04289  5872.157373    1426094  81864.0     296259\n",
       "77.0        5600.04289  5872.157373    1511102  88337.0     324502\n",
       "78.0        5600.04289  5872.157373    1595348  95454.0     348808\n",
       "\n",
       "[79 rows x 5 columns]"
      ]
     },
     "execution_count": 9,
     "metadata": {},
     "output_type": "execute_result"
    }
   ],
   "source": [
    "data3 = timeseries.groupby([\"cases date\"]).sum()\n",
    "data3.index = (data3.index - data3.index.min()) / np.timedelta64(1,'D')\n",
    "data3 = data3.drop([\"date_days\"], axis = 1)\n",
    "data3"
   ]
  },
  {
   "cell_type": "code",
   "execution_count": null,
   "metadata": {},
   "outputs": [],
   "source": [
    "# I'm going to try to create a neural network to predict when the covid outbreak will stop"
   ]
  },
  {
   "cell_type": "code",
   "execution_count": 10,
   "metadata": {},
   "outputs": [
    {
     "name": "stderr",
     "output_type": "stream",
     "text": [
      "C:\\Users\\loren\\Anaconda3\\lib\\site-packages\\pandas\\core\\indexing.py:671: SettingWithCopyWarning: \n",
      "A value is trying to be set on a copy of a slice from a DataFrame\n",
      "\n",
      "See the caveats in the documentation: https://pandas.pydata.org/pandas-docs/stable/user_guide/indexing.html#returning-a-view-versus-a-copy\n",
      "  self._setitem_with_indexer(indexer, value)\n"
     ]
    },
    {
     "data": {
      "text/html": [
       "<div>\n",
       "<style scoped>\n",
       "    .dataframe tbody tr th:only-of-type {\n",
       "        vertical-align: middle;\n",
       "    }\n",
       "\n",
       "    .dataframe tbody tr th {\n",
       "        vertical-align: top;\n",
       "    }\n",
       "\n",
       "    .dataframe thead th {\n",
       "        text-align: right;\n",
       "    }\n",
       "</style>\n",
       "<table border=\"1\" class=\"dataframe\">\n",
       "  <thead>\n",
       "    <tr style=\"text-align: right;\">\n",
       "      <th></th>\n",
       "      <th>Lat</th>\n",
       "      <th>Long</th>\n",
       "      <th>Confirmed</th>\n",
       "      <th>Deaths</th>\n",
       "      <th>Recovered</th>\n",
       "      <th>Confirmed_increase</th>\n",
       "    </tr>\n",
       "    <tr>\n",
       "      <th>cases date</th>\n",
       "      <th></th>\n",
       "      <th></th>\n",
       "      <th></th>\n",
       "      <th></th>\n",
       "      <th></th>\n",
       "      <th></th>\n",
       "    </tr>\n",
       "  </thead>\n",
       "  <tbody>\n",
       "    <tr>\n",
       "      <th>0.0</th>\n",
       "      <td>5600.04289</td>\n",
       "      <td>5872.157373</td>\n",
       "      <td>555</td>\n",
       "      <td>17.0</td>\n",
       "      <td>28</td>\n",
       "      <td>0</td>\n",
       "    </tr>\n",
       "    <tr>\n",
       "      <th>1.0</th>\n",
       "      <td>5600.04289</td>\n",
       "      <td>5872.157373</td>\n",
       "      <td>654</td>\n",
       "      <td>18.0</td>\n",
       "      <td>30</td>\n",
       "      <td>99</td>\n",
       "    </tr>\n",
       "    <tr>\n",
       "      <th>2.0</th>\n",
       "      <td>5600.04289</td>\n",
       "      <td>5872.157373</td>\n",
       "      <td>941</td>\n",
       "      <td>26.0</td>\n",
       "      <td>36</td>\n",
       "      <td>287</td>\n",
       "    </tr>\n",
       "    <tr>\n",
       "      <th>3.0</th>\n",
       "      <td>5600.04289</td>\n",
       "      <td>5872.157373</td>\n",
       "      <td>1434</td>\n",
       "      <td>42.0</td>\n",
       "      <td>39</td>\n",
       "      <td>493</td>\n",
       "    </tr>\n",
       "    <tr>\n",
       "      <th>4.0</th>\n",
       "      <td>5600.04289</td>\n",
       "      <td>5872.157373</td>\n",
       "      <td>2118</td>\n",
       "      <td>56.0</td>\n",
       "      <td>52</td>\n",
       "      <td>684</td>\n",
       "    </tr>\n",
       "    <tr>\n",
       "      <th>...</th>\n",
       "      <td>...</td>\n",
       "      <td>...</td>\n",
       "      <td>...</td>\n",
       "      <td>...</td>\n",
       "      <td>...</td>\n",
       "      <td>...</td>\n",
       "    </tr>\n",
       "    <tr>\n",
       "      <th>74.0</th>\n",
       "      <td>5600.04289</td>\n",
       "      <td>5872.157373</td>\n",
       "      <td>1272113</td>\n",
       "      <td>69373.0</td>\n",
       "      <td>256997</td>\n",
       "      <td>74707</td>\n",
       "    </tr>\n",
       "    <tr>\n",
       "      <th>75.0</th>\n",
       "      <td>5600.04289</td>\n",
       "      <td>5872.157373</td>\n",
       "      <td>1345099</td>\n",
       "      <td>74564.0</td>\n",
       "      <td>273256</td>\n",
       "      <td>72986</td>\n",
       "    </tr>\n",
       "    <tr>\n",
       "      <th>76.0</th>\n",
       "      <td>5600.04289</td>\n",
       "      <td>5872.157373</td>\n",
       "      <td>1426094</td>\n",
       "      <td>81864.0</td>\n",
       "      <td>296259</td>\n",
       "      <td>80995</td>\n",
       "    </tr>\n",
       "    <tr>\n",
       "      <th>77.0</th>\n",
       "      <td>5600.04289</td>\n",
       "      <td>5872.157373</td>\n",
       "      <td>1511102</td>\n",
       "      <td>88337.0</td>\n",
       "      <td>324502</td>\n",
       "      <td>85008</td>\n",
       "    </tr>\n",
       "    <tr>\n",
       "      <th>78.0</th>\n",
       "      <td>5600.04289</td>\n",
       "      <td>5872.157373</td>\n",
       "      <td>1595348</td>\n",
       "      <td>95454.0</td>\n",
       "      <td>348808</td>\n",
       "      <td>84246</td>\n",
       "    </tr>\n",
       "  </tbody>\n",
       "</table>\n",
       "<p>79 rows × 6 columns</p>\n",
       "</div>"
      ],
      "text/plain": [
       "                   Lat         Long  Confirmed   Deaths  Recovered  \\\n",
       "cases date                                                           \n",
       "0.0         5600.04289  5872.157373        555     17.0         28   \n",
       "1.0         5600.04289  5872.157373        654     18.0         30   \n",
       "2.0         5600.04289  5872.157373        941     26.0         36   \n",
       "3.0         5600.04289  5872.157373       1434     42.0         39   \n",
       "4.0         5600.04289  5872.157373       2118     56.0         52   \n",
       "...                ...          ...        ...      ...        ...   \n",
       "74.0        5600.04289  5872.157373    1272113  69373.0     256997   \n",
       "75.0        5600.04289  5872.157373    1345099  74564.0     273256   \n",
       "76.0        5600.04289  5872.157373    1426094  81864.0     296259   \n",
       "77.0        5600.04289  5872.157373    1511102  88337.0     324502   \n",
       "78.0        5600.04289  5872.157373    1595348  95454.0     348808   \n",
       "\n",
       "            Confirmed_increase  \n",
       "cases date                      \n",
       "0.0                          0  \n",
       "1.0                         99  \n",
       "2.0                        287  \n",
       "3.0                        493  \n",
       "4.0                        684  \n",
       "...                        ...  \n",
       "74.0                     74707  \n",
       "75.0                     72986  \n",
       "76.0                     80995  \n",
       "77.0                     85008  \n",
       "78.0                     84246  \n",
       "\n",
       "[79 rows x 6 columns]"
      ]
     },
     "execution_count": 10,
     "metadata": {},
     "output_type": "execute_result"
    }
   ],
   "source": [
    "data3[\"Confirmed_increase\"] = 0\n",
    "for i in range(len(data3)):\n",
    "    data3[\"Confirmed_increase\"].iloc[0] = 0\n",
    "    data3[\"Confirmed_increase\"].iloc[i] = data3[\"Confirmed\"].iloc[i] - data3[\"Confirmed\"].iloc[i-1]\n",
    "data3"
   ]
  },
  {
   "cell_type": "code",
   "execution_count": 11,
   "metadata": {},
   "outputs": [
    {
     "data": {
      "text/plain": [
       "<matplotlib.axes._subplots.AxesSubplot at 0x21d0750ca08>"
      ]
     },
     "execution_count": 11,
     "metadata": {},
     "output_type": "execute_result"
    },
    {
     "data": {
      "image/png": "[encoded data removed]",
      "text/plain": [
       "<Figure size 345.6x259.2 with 1 Axes>"
      ]
     },
     "metadata": {},
     "output_type": "display_data"
    }
   ],
   "source": [
    "data3[\"Confirmed_increase\"].plot()"
   ]
  },
  {
   "cell_type": "code",
   "execution_count": 40,
   "metadata": {},
   "outputs": [
    {
     "name": "stderr",
     "output_type": "stream",
     "text": [
      "C:\\Users\\loren\\Anaconda3\\lib\\site-packages\\ipykernel_launcher.py:5: SettingWithCopyWarning: \n",
      "A value is trying to be set on a copy of a slice from a DataFrame.\n",
      "Try using .loc[row_indexer,col_indexer] = value instead\n",
      "\n",
      "See the caveats in the documentation: https://pandas.pydata.org/pandas-docs/stable/user_guide/indexing.html#returning-a-view-versus-a-copy\n",
      "  \"\"\"\n"
     ]
    }
   ],
   "source": [
    "from sklearn.model_selection import train_test_split\n",
    "import tensorflow as tf\n",
    "\n",
    "train = data3[[\"Confirmed_increase\"]]\n",
    "train[\"Confirmed_increase_1\"] = train[\"Confirmed_increase\"].shift(1)\n",
    "X = train[\"Confirmed_increase\"]\n",
    "y = train[\"Confirmed_increase_1\"]"
   ]
  },
  {
   "cell_type": "code",
   "execution_count": 60,
   "metadata": {},
   "outputs": [],
   "source": [
    "X_train, X_test, y_train, y_test = train_test_split(X, y, test_size = 0.2, random_state = 42, shuffle = False)"
   ]
  },
  {
   "cell_type": "code",
   "execution_count": 68,
   "metadata": {},
   "outputs": [
    {
     "data": {
      "text/plain": [
       "(16,)"
      ]
     },
     "execution_count": 68,
     "metadata": {},
     "output_type": "execute_result"
    }
   ],
   "source": [
    "X_test.shape"
   ]
  },
  {
   "cell_type": "code",
   "execution_count": 69,
   "metadata": {},
   "outputs": [
    {
     "name": "stdout",
     "output_type": "stream",
     "text": [
      "Model: \"sequential_10\"\n",
      "_________________________________________________________________\n",
      "Layer (type)                 Output Shape              Param #   \n",
      "=================================================================\n",
      "dense_22 (Dense)             (None, 200)               400       \n",
      "_________________________________________________________________\n",
      "dropout_15 (Dropout)         (None, 200)               0         \n",
      "_________________________________________________________________\n",
      "dense_23 (Dense)             (None, 400)               80400     \n",
      "_________________________________________________________________\n",
      "dropout_16 (Dropout)         (None, 400)               0         \n",
      "_________________________________________________________________\n",
      "dense_24 (Dense)             (None, 4)                 1604      \n",
      "_________________________________________________________________\n",
      "dropout_17 (Dropout)         (None, 4)                 0         \n",
      "_________________________________________________________________\n",
      "dense_25 (Dense)             (None, 1)                 5         \n",
      "=================================================================\n",
      "Total params: 82,409\n",
      "Trainable params: 82,409\n",
      "Non-trainable params: 0\n",
      "_________________________________________________________________\n"
     ]
    }
   ],
   "source": [
    "model = tf.keras.models.Sequential()\n",
    "model.add(tf.keras.layers.Dense(200, activation = \"relu\", kernel_initializer = \"normal\", input_shape =(1,)))\n",
    "model.add(tf.keras.layers.Dropout(0.2))\n",
    "model.add(tf.keras.layers.Dense(400, activation = \"relu\", kernel_initializer = \"normal\"))\n",
    "model.add(tf.keras.layers.Dropout(0.2))\n",
    "model.add(tf.keras.layers.Dense(4, activation = \"relu\", kernel_initializer = \"normal\"))\n",
    "model.add(tf.keras.layers.Dropout(0.2))\n",
    "model.add(tf.keras.layers.Dense(1, activation = \"linear\", kernel_initializer = \"normal\"))\n",
    "model.summary()"
   ]
  },
  {
   "cell_type": "code",
   "execution_count": 70,
   "metadata": {},
   "outputs": [],
   "source": [
    "model.compile(optimizer = \"adam\", loss = \"mean_absolute_error\", metrics = [\"mean_absolute_error\"])"
   ]
  },
  {
   "cell_type": "code",
   "execution_count": 71,
   "metadata": {},
   "outputs": [
    {
     "name": "stdout",
     "output_type": "stream",
     "text": [
      "WARNING:tensorflow:Falling back from v2 loop because of error: Failed to find data adapter that can handle input: <class 'pandas.core.series.Series'>, <class 'NoneType'>\n"
     ]
    },
    {
     "data": {
      "text/plain": [
       "<tensorflow.python.keras.callbacks.History at 0x21d87c4e9c8>"
      ]
     },
     "execution_count": 71,
     "metadata": {},
     "output_type": "execute_result"
    }
   ],
   "source": [
    "model.fit(X_train, y_train, batch_size= 20, epochs=100, verbose = 0)"
   ]
  },
  {
   "cell_type": "code",
   "execution_count": 72,
   "metadata": {},
   "outputs": [
    {
     "name": "stdout",
     "output_type": "stream",
     "text": [
      "WARNING:tensorflow:Falling back from v2 loop because of error: Failed to find data adapter that can handle input: <class 'pandas.core.series.Series'>, <class 'NoneType'>\n",
      "16/16 [==============================] - 0s 4ms/sample - loss: 8838.3359 - mean_absolute_error: 8838.3359\n",
      "[8838.3359375, 8838.336]\n"
     ]
    }
   ],
   "source": [
    "eval_model = model.evaluate(X_test, y_test)\n",
    "print(eval_model)"
   ]
  },
  {
   "cell_type": "code",
   "execution_count": null,
   "metadata": {},
   "outputs": [],
   "source": [
    "#https://blog.statsbot.co/time-series-prediction-using-recurrent-neural-networks-lstms-807fa6ca7f\n",
    "#https://machinelearningmastery.com/time-series-prediction-lstm-recurrent-neural-networks-python-keras/"
   ]
  },
  {
   "cell_type": "code",
   "execution_count": 74,
   "metadata": {},
   "outputs": [
    {
     "name": "stdout",
     "output_type": "stream",
     "text": [
      "WARNING:tensorflow:Falling back from v2 loop because of error: Failed to find data adapter that can handle input: <class 'pandas.core.series.Series'>, <class 'NoneType'>\n"
     ]
    },
    {
     "data": {
      "text/plain": [
       "[<matplotlib.lines.Line2D at 0x21d7d3f0588>]"
      ]
     },
     "execution_count": 74,
     "metadata": {},
     "output_type": "execute_result"
    },
    {
     "data": {
      "image/png": "[encoded data removed]",
      "text/plain": [
       "<Figure size 345.6x259.2 with 1 Axes>"
      ]
     },
     "metadata": {},
     "output_type": "display_data"
    }
   ],
   "source": [
    "y_pred = model.predict(X_test)\n",
    "plt.plot(y_test)\n",
    "plt.plot(y_pred)"
   ]
  },
  {
   "cell_type": "code",
   "execution_count": 77,
   "metadata": {},
   "outputs": [
    {
     "data": {
      "text/plain": [
       "array([[43185.58 ],\n",
       "       [53919.094],\n",
       "       [55452.934],\n",
       "       [58675.6  ],\n",
       "       [51750.61 ],\n",
       "       [54189.816],\n",
       "       [65375.105],\n",
       "       [65392.54 ],\n",
       "       [70390.164],\n",
       "       [71776.02 ],\n",
       "       [88350.695],\n",
       "       [65034.73 ],\n",
       "       [63536.57 ],\n",
       "       [70508.56 ],\n",
       "       [74001.94 ],\n",
       "       [73338.62 ]], dtype=float32)"
      ]
     },
     "execution_count": 77,
     "metadata": {},
     "output_type": "execute_result"
    }
   ],
   "source": []
  }
 ],
 "metadata": {
  "kernelspec": {
   "display_name": "Python 3",
   "language": "python",
   "name": "python3"
  },
  "language_info": {
   "codemirror_mode": {
    "name": "ipython",
    "version": 3
   },
   "file_extension": ".py",
   "mimetype": "text/x-python",
   "name": "python",
   "nbconvert_exporter": "python",
   "pygments_lexer": "ipython3",
   "version": "3.7.7"
  }
 },
 "nbformat": 4,
 "nbformat_minor": 2
}
